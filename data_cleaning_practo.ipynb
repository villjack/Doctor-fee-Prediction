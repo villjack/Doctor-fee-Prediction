{
 "cells": [
  {
   "cell_type": "code",
   "execution_count": 326,
   "id": "e9c15e6e",
   "metadata": {},
   "outputs": [],
   "source": [
    "import numpy as np\n",
    "import pandas as pd\n",
    "import matplotlib.pyplot as plt\n",
    "import seaborn as sns"
   ]
  },
  {
   "cell_type": "code",
   "execution_count": 252,
   "id": "47cca50b",
   "metadata": {},
   "outputs": [
    {
     "data": {
      "text/html": [
       "<div>\n",
       "<style scoped>\n",
       "    .dataframe tbody tr th:only-of-type {\n",
       "        vertical-align: middle;\n",
       "    }\n",
       "\n",
       "    .dataframe tbody tr th {\n",
       "        vertical-align: top;\n",
       "    }\n",
       "\n",
       "    .dataframe thead th {\n",
       "        text-align: right;\n",
       "    }\n",
       "</style>\n",
       "<table border=\"1\" class=\"dataframe\">\n",
       "  <thead>\n",
       "    <tr style=\"text-align: right;\">\n",
       "      <th></th>\n",
       "      <th>Name</th>\n",
       "      <th>Degree</th>\n",
       "      <th>Specialization</th>\n",
       "      <th>Experience</th>\n",
       "      <th>Location</th>\n",
       "      <th>City</th>\n",
       "      <th>Recommendation</th>\n",
       "      <th>Feedback</th>\n",
       "      <th>Fees</th>\n",
       "    </tr>\n",
       "  </thead>\n",
       "  <tbody>\n",
       "    <tr>\n",
       "      <th>0</th>\n",
       "      <td>Dr. Sourabh Nagpal</td>\n",
       "      <td>BDS, MDS - Prosthodontics, Fellowship and Dipl...</td>\n",
       "      <td>Dentist</td>\n",
       "      <td>17 years experience overall</td>\n",
       "      <td>Vasant Vihar,</td>\n",
       "      <td>Delhi</td>\n",
       "      <td>99%</td>\n",
       "      <td>623 Patient Stories</td>\n",
       "      <td>₹500</td>\n",
       "    </tr>\n",
       "    <tr>\n",
       "      <th>1</th>\n",
       "      <td>Dr. Meeka Gulati</td>\n",
       "      <td>BDS, MDS - Conservative Dentistry &amp; Endodontics</td>\n",
       "      <td>Dentist</td>\n",
       "      <td>15 years experience overall</td>\n",
       "      <td>Janakpuri,</td>\n",
       "      <td>Delhi</td>\n",
       "      <td>97%</td>\n",
       "      <td>108 Patient Stories</td>\n",
       "      <td>₹500</td>\n",
       "    </tr>\n",
       "    <tr>\n",
       "      <th>2</th>\n",
       "      <td>Dr. Aparna Singhal</td>\n",
       "      <td>BDS, MDS - Prosthodontics</td>\n",
       "      <td>Dentist</td>\n",
       "      <td>14 years experience overall</td>\n",
       "      <td>Punjabi Bagh,</td>\n",
       "      <td>Delhi</td>\n",
       "      <td>98%</td>\n",
       "      <td>96 Patient Stories</td>\n",
       "      <td>₹300</td>\n",
       "    </tr>\n",
       "    <tr>\n",
       "      <th>3</th>\n",
       "      <td>Dr. Prashant Ojha</td>\n",
       "      <td>MDS - Periodontology and Oral Implantology, Ce...</td>\n",
       "      <td>Dentist</td>\n",
       "      <td>16 years experience overall</td>\n",
       "      <td>Saket,</td>\n",
       "      <td>Delhi</td>\n",
       "      <td>92%</td>\n",
       "      <td>104 Patient Stories</td>\n",
       "      <td>₹300</td>\n",
       "    </tr>\n",
       "    <tr>\n",
       "      <th>4</th>\n",
       "      <td>Dr. Anukriti Bansal Aggarwal</td>\n",
       "      <td>BDS</td>\n",
       "      <td>Dentist</td>\n",
       "      <td>10 years experience overall</td>\n",
       "      <td>Rohini Sector 18,</td>\n",
       "      <td>Delhi</td>\n",
       "      <td>100%</td>\n",
       "      <td>74 Patient Stories</td>\n",
       "      <td>₹400</td>\n",
       "    </tr>\n",
       "    <tr>\n",
       "      <th>...</th>\n",
       "      <td>...</td>\n",
       "      <td>...</td>\n",
       "      <td>...</td>\n",
       "      <td>...</td>\n",
       "      <td>...</td>\n",
       "      <td>...</td>\n",
       "      <td>...</td>\n",
       "      <td>...</td>\n",
       "      <td>...</td>\n",
       "    </tr>\n",
       "    <tr>\n",
       "      <th>5053</th>\n",
       "      <td>Dr. Sreesha N</td>\n",
       "      <td>MBBS, MD - Obstetrics &amp; Gynaecology</td>\n",
       "      <td>Dentist</td>\n",
       "      <td>18 years experience overall</td>\n",
       "      <td>Yelahanka New Town,</td>\n",
       "      <td>Bangalore</td>\n",
       "      <td>100%</td>\n",
       "      <td>10 Patient Stories</td>\n",
       "      <td>₹300</td>\n",
       "    </tr>\n",
       "    <tr>\n",
       "      <th>5054</th>\n",
       "      <td>Dr. Roshan Varghese</td>\n",
       "      <td>MBBS, DGO, DNB - Obstetrics &amp; Gynecology, Dipl...</td>\n",
       "      <td>Dentist</td>\n",
       "      <td>14 years experience overall</td>\n",
       "      <td>Horamavu,</td>\n",
       "      <td>Bangalore</td>\n",
       "      <td>100%</td>\n",
       "      <td>55 Patient Stories</td>\n",
       "      <td>₹300</td>\n",
       "    </tr>\n",
       "    <tr>\n",
       "      <th>5055</th>\n",
       "      <td>Dr. Vinayak Raghunathan</td>\n",
       "      <td>MBBS, DGO</td>\n",
       "      <td>Dentist</td>\n",
       "      <td>14 years experience overall</td>\n",
       "      <td>JP Nagar,</td>\n",
       "      <td>Bangalore</td>\n",
       "      <td>100%</td>\n",
       "      <td>145 Patient Stories</td>\n",
       "      <td>₹500</td>\n",
       "    </tr>\n",
       "    <tr>\n",
       "      <th>5056</th>\n",
       "      <td>Dr. Idris Md</td>\n",
       "      <td>MBBS, MS - Obstetrics &amp; Gynaecology, DGO, DNB ...</td>\n",
       "      <td>Dentist</td>\n",
       "      <td>13 years experience overall</td>\n",
       "      <td>Jayanagar 5 Block,</td>\n",
       "      <td>Bangalore</td>\n",
       "      <td>99%</td>\n",
       "      <td>131 Patient Stories</td>\n",
       "      <td>₹300</td>\n",
       "    </tr>\n",
       "    <tr>\n",
       "      <th>5057</th>\n",
       "      <td>Dr. Prahlad Shenava</td>\n",
       "      <td>MBBS, MD - Obstetrics &amp; Gynaecology</td>\n",
       "      <td>Dentist</td>\n",
       "      <td>12 years experience overall</td>\n",
       "      <td>Whitefield,</td>\n",
       "      <td>Bangalore</td>\n",
       "      <td>98%</td>\n",
       "      <td>58 Patient Stories</td>\n",
       "      <td>₹300</td>\n",
       "    </tr>\n",
       "  </tbody>\n",
       "</table>\n",
       "<p>5058 rows × 9 columns</p>\n",
       "</div>"
      ],
      "text/plain": [
       "                              Name  \\\n",
       "0               Dr. Sourabh Nagpal   \n",
       "1                 Dr. Meeka Gulati   \n",
       "2               Dr. Aparna Singhal   \n",
       "3                Dr. Prashant Ojha   \n",
       "4     Dr. Anukriti Bansal Aggarwal   \n",
       "...                            ...   \n",
       "5053                 Dr. Sreesha N   \n",
       "5054           Dr. Roshan Varghese   \n",
       "5055       Dr. Vinayak Raghunathan   \n",
       "5056                  Dr. Idris Md   \n",
       "5057           Dr. Prahlad Shenava   \n",
       "\n",
       "                                                 Degree Specialization  \\\n",
       "0     BDS, MDS - Prosthodontics, Fellowship and Dipl...        Dentist   \n",
       "1       BDS, MDS - Conservative Dentistry & Endodontics        Dentist   \n",
       "2                             BDS, MDS - Prosthodontics        Dentist   \n",
       "3     MDS - Periodontology and Oral Implantology, Ce...        Dentist   \n",
       "4                                                   BDS        Dentist   \n",
       "...                                                 ...            ...   \n",
       "5053                MBBS, MD - Obstetrics & Gynaecology        Dentist   \n",
       "5054  MBBS, DGO, DNB - Obstetrics & Gynecology, Dipl...        Dentist   \n",
       "5055                                          MBBS, DGO        Dentist   \n",
       "5056  MBBS, MS - Obstetrics & Gynaecology, DGO, DNB ...        Dentist   \n",
       "5057                MBBS, MD - Obstetrics & Gynaecology        Dentist   \n",
       "\n",
       "                       Experience             Location       City  \\\n",
       "0     17 years experience overall        Vasant Vihar,      Delhi   \n",
       "1     15 years experience overall           Janakpuri,      Delhi   \n",
       "2     14 years experience overall        Punjabi Bagh,      Delhi   \n",
       "3     16 years experience overall               Saket,      Delhi   \n",
       "4     10 years experience overall    Rohini Sector 18,      Delhi   \n",
       "...                           ...                  ...        ...   \n",
       "5053  18 years experience overall  Yelahanka New Town,  Bangalore   \n",
       "5054  14 years experience overall            Horamavu,  Bangalore   \n",
       "5055  14 years experience overall            JP Nagar,  Bangalore   \n",
       "5056  13 years experience overall   Jayanagar 5 Block,  Bangalore   \n",
       "5057  12 years experience overall          Whitefield,  Bangalore   \n",
       "\n",
       "     Recommendation             Feedback  Fees  \n",
       "0               99%  623 Patient Stories  ₹500  \n",
       "1               97%  108 Patient Stories  ₹500  \n",
       "2               98%   96 Patient Stories  ₹300  \n",
       "3               92%  104 Patient Stories  ₹300  \n",
       "4              100%   74 Patient Stories  ₹400  \n",
       "...             ...                  ...   ...  \n",
       "5053           100%   10 Patient Stories  ₹300  \n",
       "5054           100%   55 Patient Stories  ₹300  \n",
       "5055           100%  145 Patient Stories  ₹500  \n",
       "5056            99%  131 Patient Stories  ₹300  \n",
       "5057            98%   58 Patient Stories  ₹300  \n",
       "\n",
       "[5058 rows x 9 columns]"
      ]
     },
     "execution_count": 252,
     "metadata": {},
     "output_type": "execute_result"
    }
   ],
   "source": [
    "df = pd.read_csv('practo.csv')\n",
    "df"
   ]
  },
  {
   "cell_type": "code",
   "execution_count": 253,
   "id": "04bc3504",
   "metadata": {},
   "outputs": [
    {
     "data": {
      "text/plain": [
       "Name                0\n",
       "Degree             18\n",
       "Specialization     27\n",
       "Experience         18\n",
       "Location           17\n",
       "City               17\n",
       "Recommendation    608\n",
       "Feedback          789\n",
       "Fees               17\n",
       "dtype: int64"
      ]
     },
     "execution_count": 253,
     "metadata": {},
     "output_type": "execute_result"
    }
   ],
   "source": [
    "df.isna().sum()"
   ]
  },
  {
   "cell_type": "code",
   "execution_count": 254,
   "id": "0448ce9c",
   "metadata": {},
   "outputs": [
    {
     "data": {
      "text/plain": [
       "14 years experience overall    294\n",
       "12 years experience overall    293\n",
       "13 years experience overall    269\n",
       "11 years experience overall    238\n",
       "16 years experience overall    236\n",
       "                              ... \n",
       "60 years experience overall      2\n",
       "63 years experience overall      1\n",
       "61 years experience overall      1\n",
       "58 years experience overall      1\n",
       "57 years experience overall      1\n",
       "Name: Experience, Length: 61, dtype: int64"
      ]
     },
     "execution_count": 254,
     "metadata": {},
     "output_type": "execute_result"
    }
   ],
   "source": [
    "df['Experience'].value_counts()"
   ]
  },
  {
   "cell_type": "code",
   "execution_count": 255,
   "id": "7ae99033",
   "metadata": {},
   "outputs": [],
   "source": [
    "df['Recommendation']=df['Recommendation'].str[:2]"
   ]
  },
  {
   "cell_type": "code",
   "execution_count": 256,
   "id": "665cece8",
   "metadata": {},
   "outputs": [],
   "source": [
    "df['Experience']=df['Experience'].str[:2]"
   ]
  },
  {
   "cell_type": "code",
   "execution_count": 257,
   "id": "ad2f8165",
   "metadata": {},
   "outputs": [
    {
     "data": {
      "text/html": [
       "<div>\n",
       "<style scoped>\n",
       "    .dataframe tbody tr th:only-of-type {\n",
       "        vertical-align: middle;\n",
       "    }\n",
       "\n",
       "    .dataframe tbody tr th {\n",
       "        vertical-align: top;\n",
       "    }\n",
       "\n",
       "    .dataframe thead th {\n",
       "        text-align: right;\n",
       "    }\n",
       "</style>\n",
       "<table border=\"1\" class=\"dataframe\">\n",
       "  <thead>\n",
       "    <tr style=\"text-align: right;\">\n",
       "      <th></th>\n",
       "      <th>Name</th>\n",
       "      <th>Degree</th>\n",
       "      <th>Specialization</th>\n",
       "      <th>Experience</th>\n",
       "      <th>Location</th>\n",
       "      <th>City</th>\n",
       "      <th>Recommendation</th>\n",
       "      <th>Feedback</th>\n",
       "      <th>Fees</th>\n",
       "    </tr>\n",
       "  </thead>\n",
       "  <tbody>\n",
       "    <tr>\n",
       "      <th>40</th>\n",
       "      <td>Skinroots- Skin And Hair Transplant Clinic</td>\n",
       "      <td>NaN</td>\n",
       "      <td>NaN</td>\n",
       "      <td>NaN</td>\n",
       "      <td>NaN</td>\n",
       "      <td>NaN</td>\n",
       "      <td>NaN</td>\n",
       "      <td>NaN</td>\n",
       "      <td>NaN</td>\n",
       "    </tr>\n",
       "    <tr>\n",
       "      <th>111</th>\n",
       "      <td>Thinkyou.In</td>\n",
       "      <td>NaN</td>\n",
       "      <td>NaN</td>\n",
       "      <td>NaN</td>\n",
       "      <td>NaN</td>\n",
       "      <td>NaN</td>\n",
       "      <td>NaN</td>\n",
       "      <td>NaN</td>\n",
       "      <td>NaN</td>\n",
       "    </tr>\n",
       "    <tr>\n",
       "      <th>182</th>\n",
       "      <td>Amaltas Ayurveda</td>\n",
       "      <td>NaN</td>\n",
       "      <td>NaN</td>\n",
       "      <td>NaN</td>\n",
       "      <td>NaN</td>\n",
       "      <td>NaN</td>\n",
       "      <td>NaN</td>\n",
       "      <td>NaN</td>\n",
       "      <td>NaN</td>\n",
       "    </tr>\n",
       "    <tr>\n",
       "      <th>185</th>\n",
       "      <td>Smile Again</td>\n",
       "      <td>NaN</td>\n",
       "      <td>NaN</td>\n",
       "      <td>NaN</td>\n",
       "      <td>NaN</td>\n",
       "      <td>NaN</td>\n",
       "      <td>NaN</td>\n",
       "      <td>NaN</td>\n",
       "      <td>NaN</td>\n",
       "    </tr>\n",
       "    <tr>\n",
       "      <th>216</th>\n",
       "      <td>Dr. Gawai's Sports Medicine And Arthroscopy Cl...</td>\n",
       "      <td>NaN</td>\n",
       "      <td>NaN</td>\n",
       "      <td>NaN</td>\n",
       "      <td>NaN</td>\n",
       "      <td>NaN</td>\n",
       "      <td>NaN</td>\n",
       "      <td>NaN</td>\n",
       "      <td>NaN</td>\n",
       "    </tr>\n",
       "    <tr>\n",
       "      <th>277</th>\n",
       "      <td>Amaha Mental Health Centre</td>\n",
       "      <td>MBBS, DNB - Psychiatry</td>\n",
       "      <td>NaN</td>\n",
       "      <td>NaN</td>\n",
       "      <td>NaN</td>\n",
       "      <td>NaN</td>\n",
       "      <td>NaN</td>\n",
       "      <td>NaN</td>\n",
       "      <td>NaN</td>\n",
       "    </tr>\n",
       "    <tr>\n",
       "      <th>308</th>\n",
       "      <td>Digestive Health Institute by Dr. Muffi</td>\n",
       "      <td>MBBS, MD - General Medicine, DM - Gastroentero...</td>\n",
       "      <td>NaN</td>\n",
       "      <td>NaN</td>\n",
       "      <td>NaN</td>\n",
       "      <td>NaN</td>\n",
       "      <td>NaN</td>\n",
       "      <td>NaN</td>\n",
       "      <td>NaN</td>\n",
       "    </tr>\n",
       "    <tr>\n",
       "      <th>349</th>\n",
       "      <td>Digestive Health Institute by Dr. Muffi</td>\n",
       "      <td>MBBS, DNB - General Surgery, FCPS - General Su...</td>\n",
       "      <td>NaN</td>\n",
       "      <td>NaN</td>\n",
       "      <td>NaN</td>\n",
       "      <td>NaN</td>\n",
       "      <td>NaN</td>\n",
       "      <td>NaN</td>\n",
       "      <td>NaN</td>\n",
       "    </tr>\n",
       "    <tr>\n",
       "      <th>360</th>\n",
       "      <td>Dr. Gawai's Sports Medicine And Arthroscopy Cl...</td>\n",
       "      <td>MBBS, MD - General Medicine, CCT - Rheumatology</td>\n",
       "      <td>NaN</td>\n",
       "      <td>NaN</td>\n",
       "      <td>NaN</td>\n",
       "      <td>NaN</td>\n",
       "      <td>NaN</td>\n",
       "      <td>NaN</td>\n",
       "      <td>NaN</td>\n",
       "    </tr>\n",
       "    <tr>\n",
       "      <th>373</th>\n",
       "      <td>Advanced Dental Care Centre</td>\n",
       "      <td>BDS</td>\n",
       "      <td>NaN</td>\n",
       "      <td>NaN</td>\n",
       "      <td>NaN</td>\n",
       "      <td>NaN</td>\n",
       "      <td>NaN</td>\n",
       "      <td>NaN</td>\n",
       "      <td>NaN</td>\n",
       "    </tr>\n",
       "    <tr>\n",
       "      <th>384</th>\n",
       "      <td>Aparnaa Women's Clinic</td>\n",
       "      <td>MBBS, DGO</td>\n",
       "      <td>NaN</td>\n",
       "      <td>NaN</td>\n",
       "      <td>NaN</td>\n",
       "      <td>NaN</td>\n",
       "      <td>NaN</td>\n",
       "      <td>NaN</td>\n",
       "      <td>NaN</td>\n",
       "    </tr>\n",
       "    <tr>\n",
       "      <th>414</th>\n",
       "      <td>Dr. Vidyashankar</td>\n",
       "      <td>NaN</td>\n",
       "      <td>Orthopedist</td>\n",
       "      <td>32</td>\n",
       "      <td>Jayanagar 9 Block,</td>\n",
       "      <td>Bangalore</td>\n",
       "      <td>NaN</td>\n",
       "      <td>NaN</td>\n",
       "      <td>₹650</td>\n",
       "    </tr>\n",
       "    <tr>\n",
       "      <th>415</th>\n",
       "      <td>Sapphire Skin and Aesthetics Clinic</td>\n",
       "      <td>MBBS, DDVL</td>\n",
       "      <td>NaN</td>\n",
       "      <td>NaN</td>\n",
       "      <td>NaN</td>\n",
       "      <td>NaN</td>\n",
       "      <td>NaN</td>\n",
       "      <td>NaN</td>\n",
       "      <td>NaN</td>\n",
       "    </tr>\n",
       "    <tr>\n",
       "      <th>436</th>\n",
       "      <td>Aparnaa Women's Clinic</td>\n",
       "      <td>MBBS, DGO</td>\n",
       "      <td>NaN</td>\n",
       "      <td>NaN</td>\n",
       "      <td>NaN</td>\n",
       "      <td>NaN</td>\n",
       "      <td>NaN</td>\n",
       "      <td>NaN</td>\n",
       "      <td>NaN</td>\n",
       "    </tr>\n",
       "    <tr>\n",
       "      <th>467</th>\n",
       "      <td>Amaha Mental Health Centre</td>\n",
       "      <td>M.D. (Psychiatry), MBBS</td>\n",
       "      <td>NaN</td>\n",
       "      <td>NaN</td>\n",
       "      <td>NaN</td>\n",
       "      <td>NaN</td>\n",
       "      <td>NaN</td>\n",
       "      <td>NaN</td>\n",
       "      <td>NaN</td>\n",
       "    </tr>\n",
       "    <tr>\n",
       "      <th>488</th>\n",
       "      <td>Foods &amp; Nutrition Clinic</td>\n",
       "      <td>MSc - Dietitics / Nutrition</td>\n",
       "      <td>NaN</td>\n",
       "      <td>NaN</td>\n",
       "      <td>NaN</td>\n",
       "      <td>NaN</td>\n",
       "      <td>NaN</td>\n",
       "      <td>NaN</td>\n",
       "      <td>NaN</td>\n",
       "    </tr>\n",
       "    <tr>\n",
       "      <th>499</th>\n",
       "      <td>GutCare</td>\n",
       "      <td>MBBS, FRCS - General Surgery, MRCS (UK)</td>\n",
       "      <td>NaN</td>\n",
       "      <td>NaN</td>\n",
       "      <td>NaN</td>\n",
       "      <td>NaN</td>\n",
       "      <td>NaN</td>\n",
       "      <td>NaN</td>\n",
       "      <td>NaN</td>\n",
       "    </tr>\n",
       "    <tr>\n",
       "      <th>540</th>\n",
       "      <td>Dr. Digest Advanced Gastro And Cancer Care(Cen...</td>\n",
       "      <td>MBBS, MS - General Surgery</td>\n",
       "      <td>NaN</td>\n",
       "      <td>NaN</td>\n",
       "      <td>NaN</td>\n",
       "      <td>NaN</td>\n",
       "      <td>NaN</td>\n",
       "      <td>NaN</td>\n",
       "      <td>NaN</td>\n",
       "    </tr>\n",
       "    <tr>\n",
       "      <th>3149</th>\n",
       "      <td>Dr. Parul Sharma</td>\n",
       "      <td>MBBS, DNB - Orthopedics/Orthopedic Surgery</td>\n",
       "      <td>NaN</td>\n",
       "      <td>8</td>\n",
       "      <td>Vikas Puri,</td>\n",
       "      <td>Delhi</td>\n",
       "      <td>NaN</td>\n",
       "      <td>NaN</td>\n",
       "      <td>₹800</td>\n",
       "    </tr>\n",
       "    <tr>\n",
       "      <th>4199</th>\n",
       "      <td>Dr. Swati Gawai</td>\n",
       "      <td>MBBS, DNB - Obstetrics &amp; Gynecology</td>\n",
       "      <td>NaN</td>\n",
       "      <td>12</td>\n",
       "      <td>Chembur,</td>\n",
       "      <td>Mumbai</td>\n",
       "      <td>NaN</td>\n",
       "      <td>NaN</td>\n",
       "      <td>₹900</td>\n",
       "    </tr>\n",
       "  </tbody>\n",
       "</table>\n",
       "</div>"
      ],
      "text/plain": [
       "                                                   Name  \\\n",
       "40           Skinroots- Skin And Hair Transplant Clinic   \n",
       "111                                         Thinkyou.In   \n",
       "182                                    Amaltas Ayurveda   \n",
       "185                                         Smile Again   \n",
       "216   Dr. Gawai's Sports Medicine And Arthroscopy Cl...   \n",
       "277                          Amaha Mental Health Centre   \n",
       "308             Digestive Health Institute by Dr. Muffi   \n",
       "349             Digestive Health Institute by Dr. Muffi   \n",
       "360   Dr. Gawai's Sports Medicine And Arthroscopy Cl...   \n",
       "373                         Advanced Dental Care Centre   \n",
       "384                              Aparnaa Women's Clinic   \n",
       "414                                    Dr. Vidyashankar   \n",
       "415                 Sapphire Skin and Aesthetics Clinic   \n",
       "436                              Aparnaa Women's Clinic   \n",
       "467                          Amaha Mental Health Centre   \n",
       "488                            Foods & Nutrition Clinic   \n",
       "499                                             GutCare   \n",
       "540   Dr. Digest Advanced Gastro And Cancer Care(Cen...   \n",
       "3149                                   Dr. Parul Sharma   \n",
       "4199                                    Dr. Swati Gawai   \n",
       "\n",
       "                                                 Degree Specialization  \\\n",
       "40                                                  NaN            NaN   \n",
       "111                                                 NaN            NaN   \n",
       "182                                                 NaN            NaN   \n",
       "185                                                 NaN            NaN   \n",
       "216                                                 NaN            NaN   \n",
       "277                              MBBS, DNB - Psychiatry            NaN   \n",
       "308   MBBS, MD - General Medicine, DM - Gastroentero...            NaN   \n",
       "349   MBBS, DNB - General Surgery, FCPS - General Su...            NaN   \n",
       "360     MBBS, MD - General Medicine, CCT - Rheumatology            NaN   \n",
       "373                                                 BDS            NaN   \n",
       "384                                           MBBS, DGO            NaN   \n",
       "414                                                 NaN    Orthopedist   \n",
       "415                                          MBBS, DDVL            NaN   \n",
       "436                                           MBBS, DGO            NaN   \n",
       "467                             M.D. (Psychiatry), MBBS            NaN   \n",
       "488                         MSc - Dietitics / Nutrition            NaN   \n",
       "499             MBBS, FRCS - General Surgery, MRCS (UK)            NaN   \n",
       "540                          MBBS, MS - General Surgery            NaN   \n",
       "3149         MBBS, DNB - Orthopedics/Orthopedic Surgery            NaN   \n",
       "4199                MBBS, DNB - Obstetrics & Gynecology            NaN   \n",
       "\n",
       "     Experience            Location       City Recommendation Feedback  Fees  \n",
       "40          NaN                 NaN        NaN            NaN      NaN   NaN  \n",
       "111         NaN                 NaN        NaN            NaN      NaN   NaN  \n",
       "182         NaN                 NaN        NaN            NaN      NaN   NaN  \n",
       "185         NaN                 NaN        NaN            NaN      NaN   NaN  \n",
       "216         NaN                 NaN        NaN            NaN      NaN   NaN  \n",
       "277         NaN                 NaN        NaN            NaN      NaN   NaN  \n",
       "308         NaN                 NaN        NaN            NaN      NaN   NaN  \n",
       "349         NaN                 NaN        NaN            NaN      NaN   NaN  \n",
       "360         NaN                 NaN        NaN            NaN      NaN   NaN  \n",
       "373         NaN                 NaN        NaN            NaN      NaN   NaN  \n",
       "384         NaN                 NaN        NaN            NaN      NaN   NaN  \n",
       "414          32  Jayanagar 9 Block,  Bangalore            NaN      NaN  ₹650  \n",
       "415         NaN                 NaN        NaN            NaN      NaN   NaN  \n",
       "436         NaN                 NaN        NaN            NaN      NaN   NaN  \n",
       "467         NaN                 NaN        NaN            NaN      NaN   NaN  \n",
       "488         NaN                 NaN        NaN            NaN      NaN   NaN  \n",
       "499         NaN                 NaN        NaN            NaN      NaN   NaN  \n",
       "540         NaN                 NaN        NaN            NaN      NaN   NaN  \n",
       "3149         8          Vikas Puri,      Delhi            NaN      NaN  ₹800  \n",
       "4199         12            Chembur,     Mumbai            NaN      NaN  ₹900  "
      ]
     },
     "execution_count": 257,
     "metadata": {},
     "output_type": "execute_result"
    }
   ],
   "source": [
    "df[df.isnull().sum(axis=1)>2]"
   ]
  },
  {
   "cell_type": "code",
   "execution_count": 258,
   "id": "b47b4169",
   "metadata": {},
   "outputs": [],
   "source": [
    "df['Recommendation']=df['Recommendation'].fillna(0, axis=0)"
   ]
  },
  {
   "cell_type": "code",
   "execution_count": 259,
   "id": "30b7c3b5",
   "metadata": {},
   "outputs": [
    {
     "data": {
      "text/html": [
       "<div>\n",
       "<style scoped>\n",
       "    .dataframe tbody tr th:only-of-type {\n",
       "        vertical-align: middle;\n",
       "    }\n",
       "\n",
       "    .dataframe tbody tr th {\n",
       "        vertical-align: top;\n",
       "    }\n",
       "\n",
       "    .dataframe thead th {\n",
       "        text-align: right;\n",
       "    }\n",
       "</style>\n",
       "<table border=\"1\" class=\"dataframe\">\n",
       "  <thead>\n",
       "    <tr style=\"text-align: right;\">\n",
       "      <th></th>\n",
       "      <th>Name</th>\n",
       "      <th>Degree</th>\n",
       "      <th>Specialization</th>\n",
       "      <th>Experience</th>\n",
       "      <th>Location</th>\n",
       "      <th>City</th>\n",
       "      <th>Recommendation</th>\n",
       "      <th>Feedback</th>\n",
       "      <th>Fees</th>\n",
       "    </tr>\n",
       "  </thead>\n",
       "  <tbody>\n",
       "    <tr>\n",
       "      <th>0</th>\n",
       "      <td>Dr. Sourabh Nagpal</td>\n",
       "      <td>BDS, MDS - Prosthodontics, Fellowship and Dipl...</td>\n",
       "      <td>Dentist</td>\n",
       "      <td>17</td>\n",
       "      <td>Vasant Vihar,</td>\n",
       "      <td>Delhi</td>\n",
       "      <td>99</td>\n",
       "      <td>623 Patient Stories</td>\n",
       "      <td>₹500</td>\n",
       "    </tr>\n",
       "    <tr>\n",
       "      <th>1</th>\n",
       "      <td>Dr. Meeka Gulati</td>\n",
       "      <td>BDS, MDS - Conservative Dentistry &amp; Endodontics</td>\n",
       "      <td>Dentist</td>\n",
       "      <td>15</td>\n",
       "      <td>Janakpuri,</td>\n",
       "      <td>Delhi</td>\n",
       "      <td>97</td>\n",
       "      <td>108 Patient Stories</td>\n",
       "      <td>₹500</td>\n",
       "    </tr>\n",
       "    <tr>\n",
       "      <th>2</th>\n",
       "      <td>Dr. Aparna Singhal</td>\n",
       "      <td>BDS, MDS - Prosthodontics</td>\n",
       "      <td>Dentist</td>\n",
       "      <td>14</td>\n",
       "      <td>Punjabi Bagh,</td>\n",
       "      <td>Delhi</td>\n",
       "      <td>98</td>\n",
       "      <td>96 Patient Stories</td>\n",
       "      <td>₹300</td>\n",
       "    </tr>\n",
       "    <tr>\n",
       "      <th>3</th>\n",
       "      <td>Dr. Prashant Ojha</td>\n",
       "      <td>MDS - Periodontology and Oral Implantology, Ce...</td>\n",
       "      <td>Dentist</td>\n",
       "      <td>16</td>\n",
       "      <td>Saket,</td>\n",
       "      <td>Delhi</td>\n",
       "      <td>92</td>\n",
       "      <td>104 Patient Stories</td>\n",
       "      <td>₹300</td>\n",
       "    </tr>\n",
       "    <tr>\n",
       "      <th>4</th>\n",
       "      <td>Dr. Anukriti Bansal Aggarwal</td>\n",
       "      <td>BDS</td>\n",
       "      <td>Dentist</td>\n",
       "      <td>10</td>\n",
       "      <td>Rohini Sector 18,</td>\n",
       "      <td>Delhi</td>\n",
       "      <td>10</td>\n",
       "      <td>74 Patient Stories</td>\n",
       "      <td>₹400</td>\n",
       "    </tr>\n",
       "  </tbody>\n",
       "</table>\n",
       "</div>"
      ],
      "text/plain": [
       "                           Name  \\\n",
       "0            Dr. Sourabh Nagpal   \n",
       "1              Dr. Meeka Gulati   \n",
       "2            Dr. Aparna Singhal   \n",
       "3             Dr. Prashant Ojha   \n",
       "4  Dr. Anukriti Bansal Aggarwal   \n",
       "\n",
       "                                              Degree Specialization  \\\n",
       "0  BDS, MDS - Prosthodontics, Fellowship and Dipl...        Dentist   \n",
       "1    BDS, MDS - Conservative Dentistry & Endodontics        Dentist   \n",
       "2                          BDS, MDS - Prosthodontics        Dentist   \n",
       "3  MDS - Periodontology and Oral Implantology, Ce...        Dentist   \n",
       "4                                                BDS        Dentist   \n",
       "\n",
       "  Experience           Location   City Recommendation             Feedback  \\\n",
       "0         17      Vasant Vihar,  Delhi             99  623 Patient Stories   \n",
       "1         15         Janakpuri,  Delhi             97  108 Patient Stories   \n",
       "2         14      Punjabi Bagh,  Delhi             98   96 Patient Stories   \n",
       "3         16             Saket,  Delhi             92  104 Patient Stories   \n",
       "4         10  Rohini Sector 18,  Delhi             10   74 Patient Stories   \n",
       "\n",
       "   Fees  \n",
       "0  ₹500  \n",
       "1  ₹500  \n",
       "2  ₹300  \n",
       "3  ₹300  \n",
       "4  ₹400  "
      ]
     },
     "execution_count": 259,
     "metadata": {},
     "output_type": "execute_result"
    }
   ],
   "source": [
    "df.head()"
   ]
  },
  {
   "cell_type": "code",
   "execution_count": 260,
   "id": "bf41e25a",
   "metadata": {},
   "outputs": [],
   "source": [
    "df['Feedback']=df['Feedback'].str[0:3]"
   ]
  },
  {
   "cell_type": "code",
   "execution_count": 261,
   "id": "3177921d",
   "metadata": {},
   "outputs": [],
   "source": [
    "df['Feedback']=df['Feedback'].str.replace('\\xa0','')"
   ]
  },
  {
   "cell_type": "code",
   "execution_count": 262,
   "id": "a5c7fa1b",
   "metadata": {},
   "outputs": [],
   "source": [
    "df['Feedback']=df['Feedback'].str.replace('P','')"
   ]
  },
  {
   "cell_type": "code",
   "execution_count": 263,
   "id": "51ad7b1a",
   "metadata": {},
   "outputs": [
    {
     "data": {
      "text/plain": [
       "array(['623', '108', '96', '104', '74', '111', '62', '63', '99', '90',\n",
       "       '330', '23', '450', '668', '123', '4', '197', '125', '200', '228',\n",
       "       '101', '9', '53', '35', '209', '113', '2', '16', '37', '129', '1',\n",
       "       '213', '5', '25', '121', nan, '151', '227', '307', '137', '152',\n",
       "       '14', '141', '181', '82', '201', '28', '26', '33', '76', '162',\n",
       "       '55', '391', '146', '71', '446', '64', '13', '46', '3', '86',\n",
       "       '286', '118', '10', '41', '186', '66', '51', '19', '235', '369',\n",
       "       '134', '34', '24', '17', '54', '29', '6', '130', '224', '116',\n",
       "       '139', '115', '277', '342', '157', '120', '32', '27', '50', '11',\n",
       "       '12', '36', '158', '84', '163', '21', '20', '38', '39', '346',\n",
       "       '187', '169', '392', '318', '294', '112', '40', '103', '126',\n",
       "       '336', '479', '79', '117', '95', '59', '128', '43', '45', '182',\n",
       "       '127', '8', '237', '311', '175', '61', '167', '194', '159', '260',\n",
       "       '242', '247', '142', '205', '30', '72', '18', '673', '68', '178',\n",
       "       '52', '160', '7', '58', '80', '81', '425', '119', '364', '131',\n",
       "       '98', '302', '22', '431', '31', '925', '106', '578', '269', '351',\n",
       "       '75', '65', '738', '87', '179', '47', '147', '156', '246', '567',\n",
       "       '698', '263', '338', '42', '483', '292', '210', '598', '614',\n",
       "       '149', '305', '455', '188', '371', '77', '287', '208', '243',\n",
       "       '805', '316', '107', '48', '67', '203', '239', '304', '92', '69',\n",
       "       '190', '15', '44', '384', '102', '109', '94', '916', '366', '143',\n",
       "       '909', '198', '240', '135', '150', '155', '100', '133', '85',\n",
       "       '274', '60', '83', '461', '176', '171', '172', '270', '655', '249',\n",
       "       '56', '124', '49', '225', '170', '136', '154', '57', '528', '173',\n",
       "       '381', '474', '331', '144', '388', '183', '427', '701', '468',\n",
       "       '955', '241', '482', '764', '91', '496', '192', '220', '122', '97',\n",
       "       '361', '814', '409', '324', '93', '89', '430', '695', '88', '581',\n",
       "       '303', '262', '196', '609', '367', '255', '161', '372', '703',\n",
       "       '747', '140', '385', '250', '245', '70', '234', '646', '216',\n",
       "       '165', '296', '264', '233', '300', '202', '424', '403', '382',\n",
       "       '110', '373', '191', '288', '400', '439', '219', '168', '73',\n",
       "       '222', '206', '545', '447', '280', '819', '138', '349', '293',\n",
       "       '599', '251', '166', '267', '218', '145', '184', '697', '432',\n",
       "       '252', '317', '765', '290', '148', '465', '572', '174', '229',\n",
       "       '377', '679', '114', '272', '456', '362', '355', '298', '232',\n",
       "       '105', '517', '858', '380', '177', '407', '211', '238', '314',\n",
       "       '485', '132', '291', '279', '199', '285', '840', '332', '412',\n",
       "       '78', '368', '195', '940', '416', '214', '257', '261', '282',\n",
       "       '153', '486', '312', '266', '619', '321', '460', '558', '541',\n",
       "       '438', '230', '207', '327', '602', '308', '429', '309', '525',\n",
       "       '689', '353', '231'], dtype=object)"
      ]
     },
     "execution_count": 263,
     "metadata": {},
     "output_type": "execute_result"
    }
   ],
   "source": [
    "df['Feedback'].unique()"
   ]
  },
  {
   "cell_type": "code",
   "execution_count": 264,
   "id": "1dca0256",
   "metadata": {},
   "outputs": [
    {
     "data": {
      "text/html": [
       "<div>\n",
       "<style scoped>\n",
       "    .dataframe tbody tr th:only-of-type {\n",
       "        vertical-align: middle;\n",
       "    }\n",
       "\n",
       "    .dataframe tbody tr th {\n",
       "        vertical-align: top;\n",
       "    }\n",
       "\n",
       "    .dataframe thead th {\n",
       "        text-align: right;\n",
       "    }\n",
       "</style>\n",
       "<table border=\"1\" class=\"dataframe\">\n",
       "  <thead>\n",
       "    <tr style=\"text-align: right;\">\n",
       "      <th></th>\n",
       "      <th>Name</th>\n",
       "      <th>Degree</th>\n",
       "      <th>Specialization</th>\n",
       "      <th>Experience</th>\n",
       "      <th>Location</th>\n",
       "      <th>City</th>\n",
       "      <th>Recommendation</th>\n",
       "      <th>Feedback</th>\n",
       "      <th>Fees</th>\n",
       "    </tr>\n",
       "  </thead>\n",
       "  <tbody>\n",
       "    <tr>\n",
       "      <th>0</th>\n",
       "      <td>Dr. Sourabh Nagpal</td>\n",
       "      <td>BDS, MDS - Prosthodontics, Fellowship and Dipl...</td>\n",
       "      <td>Dentist</td>\n",
       "      <td>17</td>\n",
       "      <td>Vasant Vihar,</td>\n",
       "      <td>Delhi</td>\n",
       "      <td>99</td>\n",
       "      <td>623</td>\n",
       "      <td>₹500</td>\n",
       "    </tr>\n",
       "    <tr>\n",
       "      <th>1</th>\n",
       "      <td>Dr. Meeka Gulati</td>\n",
       "      <td>BDS, MDS - Conservative Dentistry &amp; Endodontics</td>\n",
       "      <td>Dentist</td>\n",
       "      <td>15</td>\n",
       "      <td>Janakpuri,</td>\n",
       "      <td>Delhi</td>\n",
       "      <td>97</td>\n",
       "      <td>108</td>\n",
       "      <td>₹500</td>\n",
       "    </tr>\n",
       "    <tr>\n",
       "      <th>2</th>\n",
       "      <td>Dr. Aparna Singhal</td>\n",
       "      <td>BDS, MDS - Prosthodontics</td>\n",
       "      <td>Dentist</td>\n",
       "      <td>14</td>\n",
       "      <td>Punjabi Bagh,</td>\n",
       "      <td>Delhi</td>\n",
       "      <td>98</td>\n",
       "      <td>96</td>\n",
       "      <td>₹300</td>\n",
       "    </tr>\n",
       "    <tr>\n",
       "      <th>3</th>\n",
       "      <td>Dr. Prashant Ojha</td>\n",
       "      <td>MDS - Periodontology and Oral Implantology, Ce...</td>\n",
       "      <td>Dentist</td>\n",
       "      <td>16</td>\n",
       "      <td>Saket,</td>\n",
       "      <td>Delhi</td>\n",
       "      <td>92</td>\n",
       "      <td>104</td>\n",
       "      <td>₹300</td>\n",
       "    </tr>\n",
       "    <tr>\n",
       "      <th>4</th>\n",
       "      <td>Dr. Anukriti Bansal Aggarwal</td>\n",
       "      <td>BDS</td>\n",
       "      <td>Dentist</td>\n",
       "      <td>10</td>\n",
       "      <td>Rohini Sector 18,</td>\n",
       "      <td>Delhi</td>\n",
       "      <td>10</td>\n",
       "      <td>74</td>\n",
       "      <td>₹400</td>\n",
       "    </tr>\n",
       "  </tbody>\n",
       "</table>\n",
       "</div>"
      ],
      "text/plain": [
       "                           Name  \\\n",
       "0            Dr. Sourabh Nagpal   \n",
       "1              Dr. Meeka Gulati   \n",
       "2            Dr. Aparna Singhal   \n",
       "3             Dr. Prashant Ojha   \n",
       "4  Dr. Anukriti Bansal Aggarwal   \n",
       "\n",
       "                                              Degree Specialization  \\\n",
       "0  BDS, MDS - Prosthodontics, Fellowship and Dipl...        Dentist   \n",
       "1    BDS, MDS - Conservative Dentistry & Endodontics        Dentist   \n",
       "2                          BDS, MDS - Prosthodontics        Dentist   \n",
       "3  MDS - Periodontology and Oral Implantology, Ce...        Dentist   \n",
       "4                                                BDS        Dentist   \n",
       "\n",
       "  Experience           Location   City Recommendation Feedback  Fees  \n",
       "0         17      Vasant Vihar,  Delhi             99      623  ₹500  \n",
       "1         15         Janakpuri,  Delhi             97      108  ₹500  \n",
       "2         14      Punjabi Bagh,  Delhi             98       96  ₹300  \n",
       "3         16             Saket,  Delhi             92      104  ₹300  \n",
       "4         10  Rohini Sector 18,  Delhi             10       74  ₹400  "
      ]
     },
     "execution_count": 264,
     "metadata": {},
     "output_type": "execute_result"
    }
   ],
   "source": [
    "df.head()"
   ]
  },
  {
   "cell_type": "code",
   "execution_count": 265,
   "id": "22001899",
   "metadata": {},
   "outputs": [],
   "source": [
    "df['Fees']=df['Fees'].str[1:]"
   ]
  },
  {
   "cell_type": "code",
   "execution_count": 266,
   "id": "5d19e99c",
   "metadata": {},
   "outputs": [],
   "source": [
    "df1=df.copy()"
   ]
  },
  {
   "cell_type": "code",
   "execution_count": 267,
   "id": "59d1dea4",
   "metadata": {},
   "outputs": [],
   "source": [
    "df1['Degree']=df1['Degree'].str.split(' ',n=1,expand=True).loc[:,0]\n"
   ]
  },
  {
   "cell_type": "code",
   "execution_count": 268,
   "id": "c030693d",
   "metadata": {},
   "outputs": [],
   "source": [
    "df1['Degree']=df1['Degree'].str.replace(',','')"
   ]
  },
  {
   "cell_type": "code",
   "execution_count": 269,
   "id": "44fe7ab4",
   "metadata": {},
   "outputs": [
    {
     "data": {
      "text/plain": [
       "MBBS             3179\n",
       "BDS               731\n",
       "BPTh/BPT          236\n",
       "MD                187\n",
       "MS                152\n",
       "MDS                96\n",
       "DNB                90\n",
       "Diploma            41\n",
       "MPTh/MPT           31\n",
       "DM                 28\n",
       "MCh                28\n",
       "DGO                28\n",
       "M.D.               25\n",
       "Post               24\n",
       "BSc                19\n",
       "MSc                17\n",
       "Masters            12\n",
       "M.Sc.              11\n",
       "BSc.               11\n",
       "Doctor              9\n",
       "DDVL                8\n",
       "MSc.                7\n",
       "FCPS                5\n",
       "B.Sc.               5\n",
       "DPM                 5\n",
       "DO                  4\n",
       "Fellow              3\n",
       "PGD                 3\n",
       "FRCS                3\n",
       "BHMS                3\n",
       "BAMS                3\n",
       "MRCOG(UK)           3\n",
       "M.Sc-               3\n",
       "PhD                 3\n",
       "FRCP                2\n",
       "BNYS                2\n",
       "PG                  2\n",
       "Certificate         2\n",
       "Doctorate           2\n",
       "DOMS                2\n",
       "P.G                 2\n",
       "FCPS-               1\n",
       "CCT                 1\n",
       "DDV                 1\n",
       "Ph.D                1\n",
       "MDS-                1\n",
       "DHMS                1\n",
       "MRCS                1\n",
       "Member              1\n",
       "DNHE                1\n",
       "Certification       1\n",
       "FNB                 1\n",
       "B.Sc.-              1\n",
       "Fellowship          1\n",
       "Name: Degree, dtype: int64"
      ]
     },
     "execution_count": 269,
     "metadata": {},
     "output_type": "execute_result"
    }
   ],
   "source": [
    "df1['Degree'].value_counts()"
   ]
  },
  {
   "cell_type": "code",
   "execution_count": 270,
   "id": "9d4e3078",
   "metadata": {},
   "outputs": [
    {
     "data": {
      "text/plain": [
       "BDS                                                343\n",
       "MBBS, MD - Obstetrics & Gynaecology                217\n",
       "MBBS, MS - Obstetrics & Gynaecology                201\n",
       "MBBS, MS - Orthopaedics                            187\n",
       "MBBS, MD - Pediatrics                              172\n",
       "BPTh/BPT                                           148\n",
       "MBBS, MD - Dermatology , Venereology & Leprosy     135\n",
       "MBBS, DGO                                          123\n",
       "MBBS, MS - Ophthalmology                           110\n",
       "MBBS, DNB - Obstetrics & Gynecology                 93\n",
       "MBBS, MD - General Medicine, DM - Cardiology        74\n",
       "MBBS, M.D. (Psychiatry)                             73\n",
       "MBBS, DGO, DNB - Obstetrics & Gynecology            70\n",
       "BDS, MDS - Conservative Dentistry & Endodontics     64\n",
       "MBBS, MS - General Surgery, MCh - Neuro Surgery     54\n",
       "MS - Obstetrics & Gynaecology, MBBS                 48\n",
       "MBBS, Diploma in Child Health (DCH)                 45\n",
       "BDS, MDS - Prosthodontist And Crown Bridge          43\n",
       "MBBS, MS - General Surgery, MCh - Urology           41\n",
       "MBBS, MS - General Surgery                          37\n",
       "Name: Degree, dtype: int64"
      ]
     },
     "execution_count": 270,
     "metadata": {},
     "output_type": "execute_result"
    }
   ],
   "source": [
    "df['Degree'].value_counts().head(20)"
   ]
  },
  {
   "cell_type": "code",
   "execution_count": 271,
   "id": "cbd5996e",
   "metadata": {},
   "outputs": [
    {
     "data": {
      "text/plain": [
       "54"
      ]
     },
     "execution_count": 271,
     "metadata": {},
     "output_type": "execute_result"
    }
   ],
   "source": [
    "df1['Degree'].nunique()"
   ]
  },
  {
   "cell_type": "code",
   "execution_count": 272,
   "id": "e41fb1b2",
   "metadata": {},
   "outputs": [
    {
     "data": {
      "text/plain": [
       "19"
      ]
     },
     "execution_count": 272,
     "metadata": {},
     "output_type": "execute_result"
    }
   ],
   "source": [
    "df1['Specialization'].nunique()"
   ]
  },
  {
   "cell_type": "code",
   "execution_count": 273,
   "id": "ebb7d15d",
   "metadata": {},
   "outputs": [
    {
     "data": {
      "text/plain": [
       "0        BDS Dentist\n",
       "1        BDS Dentist\n",
       "2        BDS Dentist\n",
       "3        MDS Dentist\n",
       "4        BDS Dentist\n",
       "            ...     \n",
       "5053    MBBS Dentist\n",
       "5054    MBBS Dentist\n",
       "5055    MBBS Dentist\n",
       "5056    MBBS Dentist\n",
       "5057    MBBS Dentist\n",
       "Length: 5058, dtype: object"
      ]
     },
     "execution_count": 273,
     "metadata": {},
     "output_type": "execute_result"
    }
   ],
   "source": [
    "df1['Degree']+' '+df1['Specialization']"
   ]
  },
  {
   "cell_type": "code",
   "execution_count": 274,
   "id": "cd16feb8",
   "metadata": {},
   "outputs": [
    {
     "data": {
      "text/plain": [
       "403"
      ]
     },
     "execution_count": 274,
     "metadata": {},
     "output_type": "execute_result"
    }
   ],
   "source": [
    "df1['Location'].nunique()"
   ]
  },
  {
   "cell_type": "code",
   "execution_count": 275,
   "id": "b067ea6b",
   "metadata": {},
   "outputs": [
    {
     "data": {
      "text/plain": [
       "Name                0\n",
       "Degree             18\n",
       "Specialization     27\n",
       "Experience         18\n",
       "Location           17\n",
       "City               17\n",
       "Recommendation      0\n",
       "Feedback          789\n",
       "Fees               17\n",
       "dtype: int64"
      ]
     },
     "execution_count": 275,
     "metadata": {},
     "output_type": "execute_result"
    }
   ],
   "source": [
    "df1.isnull().sum()"
   ]
  },
  {
   "cell_type": "code",
   "execution_count": 276,
   "id": "4821ab61",
   "metadata": {},
   "outputs": [],
   "source": [
    "df1['Feedback']=df1['Feedback'].fillna(0, axis=0)"
   ]
  },
  {
   "cell_type": "code",
   "execution_count": 277,
   "id": "daa1c3c9",
   "metadata": {},
   "outputs": [],
   "source": [
    "df1['Experience']=df1['Experience'].dropna()\n"
   ]
  },
  {
   "cell_type": "code",
   "execution_count": 278,
   "id": "68c7346c",
   "metadata": {},
   "outputs": [
    {
     "data": {
      "text/plain": [
       "(5058, 9)"
      ]
     },
     "execution_count": 278,
     "metadata": {},
     "output_type": "execute_result"
    }
   ],
   "source": [
    "df1.shape"
   ]
  },
  {
   "cell_type": "code",
   "execution_count": 279,
   "id": "d588b5c9",
   "metadata": {},
   "outputs": [
    {
     "data": {
      "text/plain": [
       "Name               0\n",
       "Degree            18\n",
       "Specialization    27\n",
       "Experience        18\n",
       "Location          17\n",
       "City              17\n",
       "Recommendation     0\n",
       "Feedback           0\n",
       "Fees              17\n",
       "dtype: int64"
      ]
     },
     "execution_count": 279,
     "metadata": {},
     "output_type": "execute_result"
    }
   ],
   "source": [
    "df1.isnull().sum()"
   ]
  },
  {
   "cell_type": "code",
   "execution_count": 280,
   "id": "0bb93a2d",
   "metadata": {},
   "outputs": [],
   "source": [
    "df1['Specialization'].fillna(method = 'ffill', inplace = True)"
   ]
  },
  {
   "cell_type": "code",
   "execution_count": 281,
   "id": "b3295479",
   "metadata": {},
   "outputs": [],
   "source": [
    "df1.dropna(inplace=True)"
   ]
  },
  {
   "cell_type": "code",
   "execution_count": 282,
   "id": "be4ae442",
   "metadata": {},
   "outputs": [
    {
     "data": {
      "text/plain": [
       "(5027, 9)"
      ]
     },
     "execution_count": 282,
     "metadata": {},
     "output_type": "execute_result"
    }
   ],
   "source": [
    "df1.shape"
   ]
  },
  {
   "cell_type": "code",
   "execution_count": 283,
   "id": "22897201",
   "metadata": {},
   "outputs": [
    {
     "name": "stdout",
     "output_type": "stream",
     "text": [
      "<class 'pandas.core.frame.DataFrame'>\n",
      "Int64Index: 5027 entries, 0 to 5057\n",
      "Data columns (total 9 columns):\n",
      " #   Column          Non-Null Count  Dtype \n",
      "---  ------          --------------  ----- \n",
      " 0   Name            5027 non-null   object\n",
      " 1   Degree          5027 non-null   object\n",
      " 2   Specialization  5027 non-null   object\n",
      " 3   Experience      5027 non-null   object\n",
      " 4   Location        5027 non-null   object\n",
      " 5   City            5027 non-null   object\n",
      " 6   Recommendation  5027 non-null   object\n",
      " 7   Feedback        5027 non-null   object\n",
      " 8   Fees            5027 non-null   object\n",
      "dtypes: object(9)\n",
      "memory usage: 392.7+ KB\n"
     ]
    }
   ],
   "source": [
    "df1.info()"
   ]
  },
  {
   "cell_type": "code",
   "execution_count": 284,
   "id": "0588d5de",
   "metadata": {},
   "outputs": [
    {
     "data": {
      "text/html": [
       "<div>\n",
       "<style scoped>\n",
       "    .dataframe tbody tr th:only-of-type {\n",
       "        vertical-align: middle;\n",
       "    }\n",
       "\n",
       "    .dataframe tbody tr th {\n",
       "        vertical-align: top;\n",
       "    }\n",
       "\n",
       "    .dataframe thead th {\n",
       "        text-align: right;\n",
       "    }\n",
       "</style>\n",
       "<table border=\"1\" class=\"dataframe\">\n",
       "  <thead>\n",
       "    <tr style=\"text-align: right;\">\n",
       "      <th></th>\n",
       "      <th>Name</th>\n",
       "      <th>Degree</th>\n",
       "      <th>Specialization</th>\n",
       "      <th>Experience</th>\n",
       "      <th>Location</th>\n",
       "      <th>City</th>\n",
       "      <th>Recommendation</th>\n",
       "      <th>Feedback</th>\n",
       "      <th>Fees</th>\n",
       "    </tr>\n",
       "  </thead>\n",
       "  <tbody>\n",
       "    <tr>\n",
       "      <th>0</th>\n",
       "      <td>Dr. Sourabh Nagpal</td>\n",
       "      <td>BDS</td>\n",
       "      <td>Dentist</td>\n",
       "      <td>17</td>\n",
       "      <td>Vasant Vihar,</td>\n",
       "      <td>Delhi</td>\n",
       "      <td>99</td>\n",
       "      <td>623</td>\n",
       "      <td>500</td>\n",
       "    </tr>\n",
       "    <tr>\n",
       "      <th>1</th>\n",
       "      <td>Dr. Meeka Gulati</td>\n",
       "      <td>BDS</td>\n",
       "      <td>Dentist</td>\n",
       "      <td>15</td>\n",
       "      <td>Janakpuri,</td>\n",
       "      <td>Delhi</td>\n",
       "      <td>97</td>\n",
       "      <td>108</td>\n",
       "      <td>500</td>\n",
       "    </tr>\n",
       "    <tr>\n",
       "      <th>2</th>\n",
       "      <td>Dr. Aparna Singhal</td>\n",
       "      <td>BDS</td>\n",
       "      <td>Dentist</td>\n",
       "      <td>14</td>\n",
       "      <td>Punjabi Bagh,</td>\n",
       "      <td>Delhi</td>\n",
       "      <td>98</td>\n",
       "      <td>96</td>\n",
       "      <td>300</td>\n",
       "    </tr>\n",
       "    <tr>\n",
       "      <th>3</th>\n",
       "      <td>Dr. Prashant Ojha</td>\n",
       "      <td>MDS</td>\n",
       "      <td>Dentist</td>\n",
       "      <td>16</td>\n",
       "      <td>Saket,</td>\n",
       "      <td>Delhi</td>\n",
       "      <td>92</td>\n",
       "      <td>104</td>\n",
       "      <td>300</td>\n",
       "    </tr>\n",
       "    <tr>\n",
       "      <th>4</th>\n",
       "      <td>Dr. Anukriti Bansal Aggarwal</td>\n",
       "      <td>BDS</td>\n",
       "      <td>Dentist</td>\n",
       "      <td>10</td>\n",
       "      <td>Rohini Sector 18,</td>\n",
       "      <td>Delhi</td>\n",
       "      <td>10</td>\n",
       "      <td>74</td>\n",
       "      <td>400</td>\n",
       "    </tr>\n",
       "  </tbody>\n",
       "</table>\n",
       "</div>"
      ],
      "text/plain": [
       "                           Name Degree Specialization Experience  \\\n",
       "0            Dr. Sourabh Nagpal    BDS        Dentist         17   \n",
       "1              Dr. Meeka Gulati    BDS        Dentist         15   \n",
       "2            Dr. Aparna Singhal    BDS        Dentist         14   \n",
       "3             Dr. Prashant Ojha    MDS        Dentist         16   \n",
       "4  Dr. Anukriti Bansal Aggarwal    BDS        Dentist         10   \n",
       "\n",
       "            Location   City Recommendation Feedback Fees  \n",
       "0      Vasant Vihar,  Delhi             99      623  500  \n",
       "1         Janakpuri,  Delhi             97      108  500  \n",
       "2      Punjabi Bagh,  Delhi             98       96  300  \n",
       "3             Saket,  Delhi             92      104  300  \n",
       "4  Rohini Sector 18,  Delhi             10       74  400  "
      ]
     },
     "execution_count": 284,
     "metadata": {},
     "output_type": "execute_result"
    }
   ],
   "source": [
    "df1.head()"
   ]
  },
  {
   "cell_type": "code",
   "execution_count": 285,
   "id": "b5936402",
   "metadata": {},
   "outputs": [],
   "source": [
    "df1=df1.replace('ree Consultation',0)"
   ]
  },
  {
   "cell_type": "code",
   "execution_count": 286,
   "id": "10536b1d",
   "metadata": {},
   "outputs": [],
   "source": [
    "df1[['Experience','Recommendation','Feedback','Fees']]=df1[['Experience','Recommendation','Feedback','Fees']].astype('int64')"
   ]
  },
  {
   "cell_type": "code",
   "execution_count": 287,
   "id": "f556574a",
   "metadata": {},
   "outputs": [
    {
     "name": "stdout",
     "output_type": "stream",
     "text": [
      "<class 'pandas.core.frame.DataFrame'>\n",
      "Int64Index: 5027 entries, 0 to 5057\n",
      "Data columns (total 9 columns):\n",
      " #   Column          Non-Null Count  Dtype \n",
      "---  ------          --------------  ----- \n",
      " 0   Name            5027 non-null   object\n",
      " 1   Degree          5027 non-null   object\n",
      " 2   Specialization  5027 non-null   object\n",
      " 3   Experience      5027 non-null   int64 \n",
      " 4   Location        5027 non-null   object\n",
      " 5   City            5027 non-null   object\n",
      " 6   Recommendation  5027 non-null   int64 \n",
      " 7   Feedback        5027 non-null   int64 \n",
      " 8   Fees            5027 non-null   int64 \n",
      "dtypes: int64(4), object(5)\n",
      "memory usage: 392.7+ KB\n"
     ]
    }
   ],
   "source": [
    "df1.info()"
   ]
  },
  {
   "cell_type": "code",
   "execution_count": 288,
   "id": "e498dfd2",
   "metadata": {},
   "outputs": [
    {
     "data": {
      "text/html": [
       "<div>\n",
       "<style scoped>\n",
       "    .dataframe tbody tr th:only-of-type {\n",
       "        vertical-align: middle;\n",
       "    }\n",
       "\n",
       "    .dataframe tbody tr th {\n",
       "        vertical-align: top;\n",
       "    }\n",
       "\n",
       "    .dataframe thead th {\n",
       "        text-align: right;\n",
       "    }\n",
       "</style>\n",
       "<table border=\"1\" class=\"dataframe\">\n",
       "  <thead>\n",
       "    <tr style=\"text-align: right;\">\n",
       "      <th></th>\n",
       "      <th>Name</th>\n",
       "      <th>Degree</th>\n",
       "      <th>Specialization</th>\n",
       "      <th>Experience</th>\n",
       "      <th>Location</th>\n",
       "      <th>City</th>\n",
       "      <th>Recommendation</th>\n",
       "      <th>Feedback</th>\n",
       "      <th>Fees</th>\n",
       "    </tr>\n",
       "  </thead>\n",
       "  <tbody>\n",
       "    <tr>\n",
       "      <th>0</th>\n",
       "      <td>Dr. Sourabh Nagpal</td>\n",
       "      <td>BDS</td>\n",
       "      <td>Dentist</td>\n",
       "      <td>17</td>\n",
       "      <td>Vasant Vihar,</td>\n",
       "      <td>Delhi</td>\n",
       "      <td>99</td>\n",
       "      <td>623</td>\n",
       "      <td>500</td>\n",
       "    </tr>\n",
       "    <tr>\n",
       "      <th>1</th>\n",
       "      <td>Dr. Meeka Gulati</td>\n",
       "      <td>BDS</td>\n",
       "      <td>Dentist</td>\n",
       "      <td>15</td>\n",
       "      <td>Janakpuri,</td>\n",
       "      <td>Delhi</td>\n",
       "      <td>97</td>\n",
       "      <td>108</td>\n",
       "      <td>500</td>\n",
       "    </tr>\n",
       "    <tr>\n",
       "      <th>2</th>\n",
       "      <td>Dr. Aparna Singhal</td>\n",
       "      <td>BDS</td>\n",
       "      <td>Dentist</td>\n",
       "      <td>14</td>\n",
       "      <td>Punjabi Bagh,</td>\n",
       "      <td>Delhi</td>\n",
       "      <td>98</td>\n",
       "      <td>96</td>\n",
       "      <td>300</td>\n",
       "    </tr>\n",
       "    <tr>\n",
       "      <th>3</th>\n",
       "      <td>Dr. Prashant Ojha</td>\n",
       "      <td>MDS</td>\n",
       "      <td>Dentist</td>\n",
       "      <td>16</td>\n",
       "      <td>Saket,</td>\n",
       "      <td>Delhi</td>\n",
       "      <td>92</td>\n",
       "      <td>104</td>\n",
       "      <td>300</td>\n",
       "    </tr>\n",
       "    <tr>\n",
       "      <th>4</th>\n",
       "      <td>Dr. Anukriti Bansal Aggarwal</td>\n",
       "      <td>BDS</td>\n",
       "      <td>Dentist</td>\n",
       "      <td>10</td>\n",
       "      <td>Rohini Sector 18,</td>\n",
       "      <td>Delhi</td>\n",
       "      <td>10</td>\n",
       "      <td>74</td>\n",
       "      <td>400</td>\n",
       "    </tr>\n",
       "  </tbody>\n",
       "</table>\n",
       "</div>"
      ],
      "text/plain": [
       "                           Name Degree Specialization  Experience  \\\n",
       "0            Dr. Sourabh Nagpal    BDS        Dentist          17   \n",
       "1              Dr. Meeka Gulati    BDS        Dentist          15   \n",
       "2            Dr. Aparna Singhal    BDS        Dentist          14   \n",
       "3             Dr. Prashant Ojha    MDS        Dentist          16   \n",
       "4  Dr. Anukriti Bansal Aggarwal    BDS        Dentist          10   \n",
       "\n",
       "            Location   City  Recommendation  Feedback  Fees  \n",
       "0      Vasant Vihar,  Delhi              99       623   500  \n",
       "1         Janakpuri,  Delhi              97       108   500  \n",
       "2      Punjabi Bagh,  Delhi              98        96   300  \n",
       "3             Saket,  Delhi              92       104   300  \n",
       "4  Rohini Sector 18,  Delhi              10        74   400  "
      ]
     },
     "execution_count": 288,
     "metadata": {},
     "output_type": "execute_result"
    }
   ],
   "source": [
    "df1.head()"
   ]
  },
  {
   "cell_type": "code",
   "execution_count": 289,
   "id": "f63fc5b4",
   "metadata": {},
   "outputs": [
    {
     "data": {
      "text/plain": [
       "MBBS             3170\n",
       "BDS               730\n",
       "BPTh/BPT          236\n",
       "MD                187\n",
       "MS                152\n",
       "MDS                96\n",
       "DNB                90\n",
       "Diploma            40\n",
       "MPTh/MPT           31\n",
       "DM                 28\n",
       "MCh                28\n",
       "DGO                28\n",
       "M.D.               24\n",
       "Post               24\n",
       "BSc                19\n",
       "MSc                16\n",
       "Masters            12\n",
       "M.Sc.              11\n",
       "BSc.               11\n",
       "Doctor              9\n",
       "DDVL                8\n",
       "MSc.                7\n",
       "FCPS                5\n",
       "B.Sc.               5\n",
       "DPM                 5\n",
       "DO                  4\n",
       "Fellow              3\n",
       "PGD                 3\n",
       "FRCS                3\n",
       "BHMS                3\n",
       "BAMS                3\n",
       "MRCOG(UK)           3\n",
       "M.Sc-               3\n",
       "PhD                 3\n",
       "FRCP                2\n",
       "BNYS                2\n",
       "PG                  2\n",
       "Certificate         2\n",
       "Doctorate           2\n",
       "DOMS                2\n",
       "P.G                 2\n",
       "FCPS-               1\n",
       "CCT                 1\n",
       "DDV                 1\n",
       "Ph.D                1\n",
       "MDS-                1\n",
       "DHMS                1\n",
       "MRCS                1\n",
       "Member              1\n",
       "DNHE                1\n",
       "Certification       1\n",
       "FNB                 1\n",
       "B.Sc.-              1\n",
       "Fellowship          1\n",
       "Name: Degree, dtype: int64"
      ]
     },
     "execution_count": 289,
     "metadata": {},
     "output_type": "execute_result"
    }
   ],
   "source": [
    "df1['Degree'].value_counts()"
   ]
  },
  {
   "cell_type": "code",
   "execution_count": 290,
   "id": "153fa2f2",
   "metadata": {},
   "outputs": [],
   "source": [
    "df1['Degree']=df1['Degree'].replace('M.D.','M.D')"
   ]
  },
  {
   "cell_type": "code",
   "execution_count": 291,
   "id": "9cd9456c",
   "metadata": {},
   "outputs": [],
   "source": [
    "df1['Degree']=df1['Degree'].replace({'M.Sc.':'M.Sc','BSc.':'BSc','M.Sc-':'M.Sc','FCPS-':'FCPS','B.Sc.-':'B.Sc','B.Sc.':'B.Sc','MSc.':'MSc','MDS-':'MDS'})"
   ]
  },
  {
   "cell_type": "code",
   "execution_count": 292,
   "id": "3b5afbb1",
   "metadata": {},
   "outputs": [
    {
     "data": {
      "text/plain": [
       "<seaborn.axisgrid.PairGrid at 0x11db7dd7e20>"
      ]
     },
     "execution_count": 292,
     "metadata": {},
     "output_type": "execute_result"
    }
   ],
   "source": [
    "sns.pairplot(df1, hue='Fees', diag_kind='hist')"
   ]
  },
  {
   "cell_type": "code",
   "execution_count": 310,
   "id": "7ad5ee8a",
   "metadata": {},
   "outputs": [
    {
     "data": {
      "text/html": [
       "<div>\n",
       "<style scoped>\n",
       "    .dataframe tbody tr th:only-of-type {\n",
       "        vertical-align: middle;\n",
       "    }\n",
       "\n",
       "    .dataframe tbody tr th {\n",
       "        vertical-align: top;\n",
       "    }\n",
       "\n",
       "    .dataframe thead th {\n",
       "        text-align: right;\n",
       "    }\n",
       "</style>\n",
       "<table border=\"1\" class=\"dataframe\">\n",
       "  <thead>\n",
       "    <tr style=\"text-align: right;\">\n",
       "      <th></th>\n",
       "      <th>Experience</th>\n",
       "      <th>Recommendation</th>\n",
       "      <th>Feedback</th>\n",
       "      <th>Fees</th>\n",
       "    </tr>\n",
       "  </thead>\n",
       "  <tbody>\n",
       "    <tr>\n",
       "      <th>Experience</th>\n",
       "      <td>1.000000</td>\n",
       "      <td>0.258331</td>\n",
       "      <td>0.037258</td>\n",
       "      <td>0.338198</td>\n",
       "    </tr>\n",
       "    <tr>\n",
       "      <th>Recommendation</th>\n",
       "      <td>0.258331</td>\n",
       "      <td>1.000000</td>\n",
       "      <td>0.367577</td>\n",
       "      <td>0.043636</td>\n",
       "    </tr>\n",
       "    <tr>\n",
       "      <th>Feedback</th>\n",
       "      <td>0.037258</td>\n",
       "      <td>0.367577</td>\n",
       "      <td>1.000000</td>\n",
       "      <td>-0.056578</td>\n",
       "    </tr>\n",
       "    <tr>\n",
       "      <th>Fees</th>\n",
       "      <td>0.338198</td>\n",
       "      <td>0.043636</td>\n",
       "      <td>-0.056578</td>\n",
       "      <td>1.000000</td>\n",
       "    </tr>\n",
       "  </tbody>\n",
       "</table>\n",
       "</div>"
      ],
      "text/plain": [
       "                Experience  Recommendation  Feedback      Fees\n",
       "Experience        1.000000        0.258331  0.037258  0.338198\n",
       "Recommendation    0.258331        1.000000  0.367577  0.043636\n",
       "Feedback          0.037258        0.367577  1.000000 -0.056578\n",
       "Fees              0.338198        0.043636 -0.056578  1.000000"
      ]
     },
     "execution_count": 310,
     "metadata": {},
     "output_type": "execute_result"
    }
   ],
   "source": [
    "df1.corr()"
   ]
  },
  {
   "cell_type": "code",
   "execution_count": 311,
   "id": "31471522",
   "metadata": {},
   "outputs": [],
   "source": []
  },
  {
   "cell_type": "code",
   "execution_count": 312,
   "id": "b288362d",
   "metadata": {},
   "outputs": [],
   "source": [
    "df2 = df1.copy()"
   ]
  },
  {
   "cell_type": "code",
   "execution_count": 315,
   "id": "5f3be797",
   "metadata": {},
   "outputs": [
    {
     "data": {
      "text/html": [
       "<div>\n",
       "<style scoped>\n",
       "    .dataframe tbody tr th:only-of-type {\n",
       "        vertical-align: middle;\n",
       "    }\n",
       "\n",
       "    .dataframe tbody tr th {\n",
       "        vertical-align: top;\n",
       "    }\n",
       "\n",
       "    .dataframe thead th {\n",
       "        text-align: right;\n",
       "    }\n",
       "</style>\n",
       "<table border=\"1\" class=\"dataframe\">\n",
       "  <thead>\n",
       "    <tr style=\"text-align: right;\">\n",
       "      <th></th>\n",
       "      <th>Degree</th>\n",
       "      <th>Specialization</th>\n",
       "      <th>Experience</th>\n",
       "      <th>Location</th>\n",
       "      <th>City</th>\n",
       "      <th>Recommendation</th>\n",
       "      <th>Feedback</th>\n",
       "      <th>Fees</th>\n",
       "    </tr>\n",
       "  </thead>\n",
       "  <tbody>\n",
       "    <tr>\n",
       "      <th>0</th>\n",
       "      <td>BDS</td>\n",
       "      <td>Dentist</td>\n",
       "      <td>17</td>\n",
       "      <td>Vasant Vihar,</td>\n",
       "      <td>Delhi</td>\n",
       "      <td>99</td>\n",
       "      <td>623</td>\n",
       "      <td>500</td>\n",
       "    </tr>\n",
       "    <tr>\n",
       "      <th>1</th>\n",
       "      <td>BDS</td>\n",
       "      <td>Dentist</td>\n",
       "      <td>15</td>\n",
       "      <td>Janakpuri,</td>\n",
       "      <td>Delhi</td>\n",
       "      <td>97</td>\n",
       "      <td>108</td>\n",
       "      <td>500</td>\n",
       "    </tr>\n",
       "    <tr>\n",
       "      <th>2</th>\n",
       "      <td>BDS</td>\n",
       "      <td>Dentist</td>\n",
       "      <td>14</td>\n",
       "      <td>Punjabi Bagh,</td>\n",
       "      <td>Delhi</td>\n",
       "      <td>98</td>\n",
       "      <td>96</td>\n",
       "      <td>300</td>\n",
       "    </tr>\n",
       "    <tr>\n",
       "      <th>3</th>\n",
       "      <td>MDS</td>\n",
       "      <td>Dentist</td>\n",
       "      <td>16</td>\n",
       "      <td>Saket,</td>\n",
       "      <td>Delhi</td>\n",
       "      <td>92</td>\n",
       "      <td>104</td>\n",
       "      <td>300</td>\n",
       "    </tr>\n",
       "    <tr>\n",
       "      <th>4</th>\n",
       "      <td>BDS</td>\n",
       "      <td>Dentist</td>\n",
       "      <td>10</td>\n",
       "      <td>Rohini Sector 18,</td>\n",
       "      <td>Delhi</td>\n",
       "      <td>10</td>\n",
       "      <td>74</td>\n",
       "      <td>400</td>\n",
       "    </tr>\n",
       "  </tbody>\n",
       "</table>\n",
       "</div>"
      ],
      "text/plain": [
       "  Degree Specialization  Experience           Location   City  Recommendation  \\\n",
       "0    BDS        Dentist          17      Vasant Vihar,  Delhi              99   \n",
       "1    BDS        Dentist          15         Janakpuri,  Delhi              97   \n",
       "2    BDS        Dentist          14      Punjabi Bagh,  Delhi              98   \n",
       "3    MDS        Dentist          16             Saket,  Delhi              92   \n",
       "4    BDS        Dentist          10  Rohini Sector 18,  Delhi              10   \n",
       "\n",
       "   Feedback  Fees  \n",
       "0       623   500  \n",
       "1       108   500  \n",
       "2        96   300  \n",
       "3       104   300  \n",
       "4        74   400  "
      ]
     },
     "execution_count": 315,
     "metadata": {},
     "output_type": "execute_result"
    }
   ],
   "source": [
    "df2.head()"
   ]
  },
  {
   "cell_type": "code",
   "execution_count": 317,
   "id": "21954f99",
   "metadata": {},
   "outputs": [],
   "source": [
    "col_num = ['Experience','Experience','Experience','Experience']"
   ]
  },
  {
   "cell_type": "code",
   "execution_count": 320,
   "id": "6133e3ed",
   "metadata": {},
   "outputs": [],
   "source": [
    "cat=[i for i in df2.columns if df2[i].nunique()<12]\n",
    "cont=[i for i in df2.columns if df2[i].nunique()>12]"
   ]
  },
  {
   "cell_type": "code",
   "execution_count": 323,
   "id": "952ad445",
   "metadata": {},
   "outputs": [
    {
     "data": {
      "text/plain": [
       "Bangalore    2041\n",
       "Delhi        1674\n",
       "Mumbai       1312\n",
       "Name: City, dtype: int64"
      ]
     },
     "execution_count": 323,
     "metadata": {},
     "output_type": "execute_result"
    }
   ],
   "source": [
    "plt.figure(figsize=(15,8))\n",
    "sns.countplot(x='City',data=df2)\n",
    "df2['City'].value_counts()"
   ]
  },
  {
   "cell_type": "code",
   "execution_count": 327,
   "id": "7ff6586e",
   "metadata": {},
   "outputs": [
    {
     "data": {
      "text/plain": [
       "<AxesSubplot:xlabel='Fees', ylabel='Count'>"
      ]
     },
     "execution_count": 327,
     "metadata": {},
     "output_type": "execute_result"
    }
   ],
   "source": [
    "plt.figure(figsize=(8,6))\n",
    "sns.histplot(df2['Fees'],kde=True,color='k')\n"
   ]
  },
  {
   "cell_type": "code",
   "execution_count": 337,
   "id": "2a15ba87",
   "metadata": {},
   "outputs": [],
   "source": [
    "df1['Location']=df1['Location'].str.replace(',','')"
   ]
  },
  {
   "cell_type": "code",
   "execution_count": 338,
   "id": "716fe5b1",
   "metadata": {},
   "outputs": [
    {
     "data": {
      "text/plain": [
       "0             Vasant Vihar\n",
       "1                Janakpuri\n",
       "2             Punjabi Bagh\n",
       "3                    Saket\n",
       "4         Rohini Sector 18\n",
       "               ...        \n",
       "5053    Yelahanka New Town\n",
       "5054              Horamavu\n",
       "5055              JP Nagar\n",
       "5056     Jayanagar 5 Block\n",
       "5057            Whitefield\n",
       "Name: Location, Length: 5027, dtype: object"
      ]
     },
     "execution_count": 338,
     "metadata": {},
     "output_type": "execute_result"
    }
   ],
   "source": [
    "df1['Location']"
   ]
  },
  {
   "cell_type": "code",
   "execution_count": 340,
   "id": "b29d7c8c",
   "metadata": {},
   "outputs": [],
   "source": [
    "df1.to_csv('practo_cleandata.csv')"
   ]
  },
  {
   "cell_type": "code",
   "execution_count": 344,
   "id": "81e52be6",
   "metadata": {},
   "outputs": [],
   "source": [
    "df2.to_csv('practo_cleandata1.csv')"
   ]
  },
  {
   "cell_type": "code",
   "execution_count": null,
   "id": "638ded9c",
   "metadata": {},
   "outputs": [],
   "source": []
  },
  {
   "cell_type": "code",
   "execution_count": null,
   "id": "5e5183e7",
   "metadata": {},
   "outputs": [],
   "source": []
  }
 ],
 "metadata": {
  "kernelspec": {
   "display_name": "Python 3 (ipykernel)",
   "language": "python",
   "name": "python3"
  },
  "language_info": {
   "codemirror_mode": {
    "name": "ipython",
    "version": 3
   },
   "file_extension": ".py",
   "mimetype": "text/x-python",
   "name": "python",
   "nbconvert_exporter": "python",
   "pygments_lexer": "ipython3",
   "version": "3.9.13"
  }
 },
 "nbformat": 4,
 "nbformat_minor": 5
}
